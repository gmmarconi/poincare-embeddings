{
 "cells": [
  {
   "cell_type": "code",
   "execution_count": 13,
   "metadata": {},
   "outputs": [],
   "source": [
    "import numpy as np\n",
    "import torch as th\n",
    "from torch.autograd import Variable\n",
    "from collections import defaultdict as ddict\n",
    "from matplotlib import pyplot as plt\n",
    "import seaborn as sns\n",
    "%matplotlib inline\n",
    "sns.set(style=\"darkgrid\")"
   ]
  },
  {
   "cell_type": "code",
   "execution_count": 14,
   "metadata": {},
   "outputs": [],
   "source": [
    "model = th.load('../data/synth_simple.pth')"
   ]
  },
  {
   "cell_type": "code",
   "execution_count": 15,
   "metadata": {},
   "outputs": [
    {
     "data": {
      "text/plain": [
       "dict_keys(['model', 'epoch', 'objects'])"
      ]
     },
     "execution_count": 15,
     "metadata": {},
     "output_type": "execute_result"
    }
   ],
   "source": [
    "model.keys()"
   ]
  },
  {
   "cell_type": "code",
   "execution_count": 16,
   "metadata": {},
   "outputs": [
    {
     "data": {
      "text/plain": [
       "['root',\n",
       " 'tatties',\n",
       " 'cuvettes',\n",
       " 'tendential',\n",
       " 'softens',\n",
       " 'macroenvironment',\n",
       " 'Funen',\n",
       " 'seahorse',\n",
       " 'cowriting',\n",
       " 'emarginated',\n",
       " 'workouts',\n",
       " 'autosuggestion',\n",
       " 'structurelessness',\n",
       " 'slugging',\n",
       " 'mementoes',\n",
       " 'cruisings',\n",
       " 'elbuck',\n",
       " 'parasitica',\n",
       " 'whatsamatta',\n",
       " 'foliar',\n",
       " 'hexametrical',\n",
       " 'half-round',\n",
       " 'foodisms',\n",
       " 'guy-wire',\n",
       " 'kyloes',\n",
       " 'misworded',\n",
       " 'torpedos',\n",
       " 'malingers',\n",
       " 'denned',\n",
       " 'commences',\n",
       " 'tutoring',\n",
       " 'Sierra Madre Occidental',\n",
       " 'unmusically',\n",
       " 'Achenblog',\n",
       " 'Salmacis',\n",
       " 'overachieves',\n",
       " 'calcarious',\n",
       " 'adherently',\n",
       " 'gunslinging',\n",
       " 'verily',\n",
       " 'goldfinch',\n",
       " 'langsyne',\n",
       " 'Beatle',\n",
       " 'bolshevistic',\n",
       " 'goops',\n",
       " 'sternwards',\n",
       " 'epistatic',\n",
       " 'mends',\n",
       " 'novated',\n",
       " 'stabilisers',\n",
       " 'impugner',\n",
       " 'steam-plow',\n",
       " 'gammed',\n",
       " 'hoofed',\n",
       " 'noncosmetic',\n",
       " 'rabban',\n",
       " 'digitalisation',\n",
       " 'reformers',\n",
       " 'distribute',\n",
       " 'golden-green',\n",
       " 'reamy',\n",
       " 'gauzes',\n",
       " 'high-minded',\n",
       " 'elders',\n",
       " 'confederate',\n",
       " 'overqualified',\n",
       " 'Littré',\n",
       " 'Dheeraj',\n",
       " 'motherlessness',\n",
       " 'frankpledge',\n",
       " 'letter-bomb',\n",
       " 'peppers',\n",
       " 'hardcopies',\n",
       " 'chooses',\n",
       " 'bullæ',\n",
       " 'kilter',\n",
       " 'pantiles',\n",
       " 'oldfield',\n",
       " 'flogging',\n",
       " 'desensitize',\n",
       " 'spiderwebbing',\n",
       " 'abseils',\n",
       " 'solstice',\n",
       " 'pelagian',\n",
       " 'stand-patter',\n",
       " 'Nevadans',\n",
       " 'physiognomic',\n",
       " 'reconnaissance',\n",
       " 'tag-end',\n",
       " 'memosphere',\n",
       " 'provtest',\n",
       " 'determinator',\n",
       " \"how've\",\n",
       " 'Kwangju',\n",
       " 'dependences',\n",
       " 'plausibility',\n",
       " 'defuel',\n",
       " 'effloresced',\n",
       " 'diseasing',\n",
       " 'Polemonium',\n",
       " 'bureaucracy']"
      ]
     },
     "execution_count": 16,
     "metadata": {},
     "output_type": "execute_result"
    }
   ],
   "source": [
    "for idx, item in enumeratE(model['objects']):\n",
    "    model['objects']\n",
    "    if idx >= 30:\n",
    "        break"
   ]
  },
  {
   "cell_type": "code",
   "execution_count": 17,
   "metadata": {},
   "outputs": [
    {
     "name": "stdout",
     "output_type": "stream",
     "text": [
      "(101, 5)\n"
     ]
    }
   ],
   "source": [
    "embed = model['model']['lt.weight'].numpy()\n",
    "print(embed.shape)"
   ]
  },
  {
   "cell_type": "markdown",
   "metadata": {},
   "source": [
    "### Plot graphs with features"
   ]
  },
  {
   "cell_type": "code",
   "execution_count": 17,
   "metadata": {},
   "outputs": [
    {
     "ename": "TypeError",
     "evalue": "string indices must be integers",
     "output_type": "error",
     "traceback": [
      "\u001b[0;31m---------------------------------------------------------------------------\u001b[0m",
      "\u001b[0;31mTypeError\u001b[0m                                 Traceback (most recent call last)",
      "\u001b[0;32m<ipython-input-17-1e1b93437080>\u001b[0m in \u001b[0;36m<module>\u001b[0;34m()\u001b[0m\n\u001b[1;32m      5\u001b[0m     \u001b[0my\u001b[0m \u001b[0;34m=\u001b[0m \u001b[0membed\u001b[0m\u001b[0;34m[\u001b[0m\u001b[0midx\u001b[0m\u001b[0;34m,\u001b[0m\u001b[0;36m1\u001b[0m\u001b[0;34m]\u001b[0m\u001b[0;34m\u001b[0m\u001b[0m\n\u001b[1;32m      6\u001b[0m \u001b[0;34m\u001b[0m\u001b[0m\n\u001b[0;32m----> 7\u001b[0;31m     \u001b[0;32mif\u001b[0m \u001b[0mmodel\u001b[0m\u001b[0;34m[\u001b[0m\u001b[0;34m'objects'\u001b[0m\u001b[0;34m]\u001b[0m\u001b[0;34m[\u001b[0m\u001b[0midx\u001b[0m\u001b[0;34m]\u001b[0m\u001b[0;34m[\u001b[0m\u001b[0;34m'feature'\u001b[0m\u001b[0;34m]\u001b[0m \u001b[0;34m==\u001b[0m \u001b[0;34m-\u001b[0m\u001b[0;36m1\u001b[0m\u001b[0;34m:\u001b[0m\u001b[0;34m\u001b[0m\u001b[0m\n\u001b[0m\u001b[1;32m      8\u001b[0m         \u001b[0mfsize\u001b[0m \u001b[0;34m=\u001b[0m \u001b[0;36m18\u001b[0m\u001b[0;34m\u001b[0m\u001b[0m\n\u001b[1;32m      9\u001b[0m         \u001b[0msize\u001b[0m \u001b[0;34m=\u001b[0m \u001b[0;36m200\u001b[0m\u001b[0;34m\u001b[0m\u001b[0m\n",
      "\u001b[0;31mTypeError\u001b[0m: string indices must be integers"
     ]
    },
    {
     "data": {
      "image/png": "[encoded data removed]",
      "text/plain": [
       "<Figure size 720x720 with 1 Axes>"
      ]
     },
     "metadata": {},
     "output_type": "display_data"
    }
   ],
   "source": [
    "for idx in range(len(colors)):\n",
    "    if model['objects'][idx]['feature'] == -1:\n",
    "        colors[idx] = 1\n",
    "    else:\n",
    "        colors[idx] = -1\n",
    "\n",
    "plt.figure(figsize=(10,10))\n",
    "ax = plt.gca()\n",
    "for idx in range(len(colors)):\n",
    "    x = embed[idx,0]\n",
    "    y = embed[idx,1]\n",
    "    \n",
    "    if model['objects'][idx]['feature'] == -1:\n",
    "        fsize = 18\n",
    "        size = 200\n",
    "        displacement = 1.01\n",
    "        marker = 'X'\n",
    "        color = 'orange'\n",
    "    else:\n",
    "        fsize = 12\n",
    "        size = 200\n",
    "        displacement = -1.01\n",
    "        marker = '.'\n",
    "        color= 'purple'\n",
    "    ax.scatter(x=x, y=y, c=color, alpha=0.8, s=size, edgecolor='black', marker=marker)\n",
    "    if model['objects'][idx]['feature'] == -1:\n",
    "        #print(x,y)\n",
    "        plt.text(x * ( displacement), y * ( displacement) , model['objects'][idx]['name'], fontsize=20)\n",
    "\n",
    "#ax.add_artist(plt.Circle((0,0), 1, color='Blue',fill=False))\n",
    "plt.show()"
   ]
  },
  {
   "cell_type": "markdown",
   "metadata": {},
   "source": [
    "### Plot simple graphs without features"
   ]
  },
  {
   "cell_type": "code",
   "execution_count": 25,
   "metadata": {},
   "outputs": [
    {
     "name": "stdout",
     "output_type": "stream",
     "text": [
      "(21, 2)\n"
     ]
    },
    {
     "data": {
      "image/png": "[encoded data removed]",
      "text/plain": [
       "<Figure size 720x720 with 1 Axes>"
      ]
     },
     "metadata": {},
     "output_type": "display_data"
    }
   ],
   "source": [
    "model = th.load('../data/synth_simple.pth')\n",
    "embed = model['model']['lt.weight'].numpy()\n",
    "print(embed.shape)\n",
    "colors = np.zeros(len(model['objects']))\n",
    "plt.figure(figsize=(10,10))\n",
    "ax = plt.gca()\n",
    "for idx in range(len(colors)):\n",
    "    x = embed[idx,0]\n",
    "    y = embed[idx,1]\n",
    "    \n",
    "    fsize = 20\n",
    "    size = 200\n",
    "    displacement = 1.01\n",
    "    marker = 'X'\n",
    "    color = 'orange'\n",
    "\n",
    "    ax.scatter(x=x, y=y, c=color, alpha=0.8, s=size, edgecolor='black', marker=marker)\n",
    "    rootest = ['root', 'pecuniarily', 'defensable', 'breeches', 'unsated', 'disagereements', 'japanesey'] #, 'foliar', , 62, 63, 96, 53]\n",
    "    if model['objects'][idx] in rootest:\n",
    "        plt.text(x * ( displacement), y * ( displacement) , model['objects'][idx], fontsize=fsize)\n",
    "\n",
    "#ax.add_artist(plt.Circle((0,0), 1, color='Blue',fill=False))\n",
    "plt.show()"
   ]
  }
 ],
 "metadata": {
  "kernelspec": {
   "display_name": "Python [conda env:py3]",
   "language": "python",
   "name": "conda-env-py3-py"
  },
  "language_info": {
   "codemirror_mode": {
    "name": "ipython",
    "version": 3
   },
   "file_extension": ".py",
   "mimetype": "text/x-python",
   "name": "python",
   "nbconvert_exporter": "python",
   "pygments_lexer": "ipython3",
   "version": "3.7.0"
  }
 },
 "nbformat": 4,
 "nbformat_minor": 2
}
